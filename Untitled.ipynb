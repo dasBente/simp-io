{
 "cells": [
  {
   "cell_type": "code",
   "execution_count": 15,
   "id": "4d40e11a-4f86-4554-a0fc-da38f410cdba",
   "metadata": {},
   "outputs": [
    {
     "data": {
      "text/html": [
       "<div>\n",
       "<style scoped>\n",
       "    .dataframe tbody tr th:only-of-type {\n",
       "        vertical-align: middle;\n",
       "    }\n",
       "\n",
       "    .dataframe tbody tr th {\n",
       "        vertical-align: top;\n",
       "    }\n",
       "\n",
       "    .dataframe thead th {\n",
       "        text-align: right;\n",
       "    }\n",
       "</style>\n",
       "<table border=\"1\" class=\"dataframe\">\n",
       "  <thead>\n",
       "    <tr style=\"text-align: right;\">\n",
       "      <th></th>\n",
       "      <th>date</th>\n",
       "      <th>channel</th>\n",
       "      <th>type</th>\n",
       "      <th>total</th>\n",
       "    </tr>\n",
       "  </thead>\n",
       "  <tbody>\n",
       "    <tr>\n",
       "      <th>0</th>\n",
       "      <td>Nov 28</td>\n",
       "      <td>Petra Gurin【NIJISANJI EN】</td>\n",
       "      <td>Super Chat</td>\n",
       "      <td>10.0</td>\n",
       "    </tr>\n",
       "    <tr>\n",
       "      <th>1</th>\n",
       "      <td>Nov 26</td>\n",
       "      <td>Petra Gurin【NIJISANJI EN】</td>\n",
       "      <td>Super Chat</td>\n",
       "      <td>5.0</td>\n",
       "    </tr>\n",
       "    <tr>\n",
       "      <th>2</th>\n",
       "      <td>Nov 25</td>\n",
       "      <td>Petra Gurin【NIJISANJI EN】</td>\n",
       "      <td>Super Chat</td>\n",
       "      <td>10.0</td>\n",
       "    </tr>\n",
       "    <tr>\n",
       "      <th>3</th>\n",
       "      <td>Nov 25</td>\n",
       "      <td>Petra Gurin【NIJISANJI EN】</td>\n",
       "      <td>Super Chat</td>\n",
       "      <td>5.0</td>\n",
       "    </tr>\n",
       "    <tr>\n",
       "      <th>4</th>\n",
       "      <td>Nov 24</td>\n",
       "      <td>Petra Gurin【NIJISANJI EN】</td>\n",
       "      <td>Super Chat</td>\n",
       "      <td>5.0</td>\n",
       "    </tr>\n",
       "    <tr>\n",
       "      <th>5</th>\n",
       "      <td>Nov 24</td>\n",
       "      <td>Petra Gurin【NIJISANJI EN】</td>\n",
       "      <td>Super Chat</td>\n",
       "      <td>5.0</td>\n",
       "    </tr>\n",
       "    <tr>\n",
       "      <th>6</th>\n",
       "      <td>Nov 24</td>\n",
       "      <td>Petra Gurin【NIJISANJI EN】</td>\n",
       "      <td>Super Chat</td>\n",
       "      <td>5.0</td>\n",
       "    </tr>\n",
       "    <tr>\n",
       "      <th>7</th>\n",
       "      <td>Nov 24</td>\n",
       "      <td>Petra Gurin【NIJISANJI EN】</td>\n",
       "      <td>Super Chat</td>\n",
       "      <td>5.0</td>\n",
       "    </tr>\n",
       "    <tr>\n",
       "      <th>8</th>\n",
       "      <td>Nov 21</td>\n",
       "      <td>Petra Gurin【NIJISANJI EN】</td>\n",
       "      <td>Super Chat</td>\n",
       "      <td>10.0</td>\n",
       "    </tr>\n",
       "    <tr>\n",
       "      <th>9</th>\n",
       "      <td>Nov 20</td>\n",
       "      <td>Petra Gurin【NIJISANJI EN】</td>\n",
       "      <td>Super Chat</td>\n",
       "      <td>5.0</td>\n",
       "    </tr>\n",
       "  </tbody>\n",
       "</table>\n",
       "</div>"
      ],
      "text/plain": [
       "     date                    channel        type  total\n",
       "0  Nov 28  Petra Gurin【NIJISANJI EN】  Super Chat   10.0\n",
       "1  Nov 26  Petra Gurin【NIJISANJI EN】  Super Chat    5.0\n",
       "2  Nov 25  Petra Gurin【NIJISANJI EN】  Super Chat   10.0\n",
       "3  Nov 25  Petra Gurin【NIJISANJI EN】  Super Chat    5.0\n",
       "4  Nov 24  Petra Gurin【NIJISANJI EN】  Super Chat    5.0\n",
       "5  Nov 24  Petra Gurin【NIJISANJI EN】  Super Chat    5.0\n",
       "6  Nov 24  Petra Gurin【NIJISANJI EN】  Super Chat    5.0\n",
       "7  Nov 24  Petra Gurin【NIJISANJI EN】  Super Chat    5.0\n",
       "8  Nov 21  Petra Gurin【NIJISANJI EN】  Super Chat   10.0\n",
       "9  Nov 20  Petra Gurin【NIJISANJI EN】  Super Chat    5.0"
      ]
     },
     "execution_count": 15,
     "metadata": {},
     "output_type": "execute_result"
    }
   ],
   "source": [
    "import pandas as pd\n",
    "import os\n",
    "\n",
    "file = os.path.join(\"data\", \"data.csv\")\n",
    "data = pd.read_csv(file)\n",
    "\n",
    "# fill NaN dates\n",
    "date = None\n",
    "for i, row in data.iterrows():\n",
    "    if not pd.isna(row[\"date\"]):\n",
    "        date = row[\"date\"]\n",
    "    else:\n",
    "        row[\"date\"] = date\n",
    "        \n",
    "# remove currency\n",
    "data['total'] = data['total'].apply(lambda x: x[1:]).astype(float)\n",
    "        \n",
    "data.head(10)"
   ]
  },
  {
   "cell_type": "code",
   "execution_count": 16,
   "id": "fb18c686-e2ba-4e47-bfb0-2643532d11fb",
   "metadata": {},
   "outputs": [
    {
     "data": {
      "text/html": [
       "<div>\n",
       "<style scoped>\n",
       "    .dataframe tbody tr th:only-of-type {\n",
       "        vertical-align: middle;\n",
       "    }\n",
       "\n",
       "    .dataframe tbody tr th {\n",
       "        vertical-align: top;\n",
       "    }\n",
       "\n",
       "    .dataframe thead th {\n",
       "        text-align: right;\n",
       "    }\n",
       "</style>\n",
       "<table border=\"1\" class=\"dataframe\">\n",
       "  <thead>\n",
       "    <tr style=\"text-align: right;\">\n",
       "      <th></th>\n",
       "      <th>date</th>\n",
       "      <th>channel</th>\n",
       "      <th>type</th>\n",
       "      <th>total</th>\n",
       "    </tr>\n",
       "  </thead>\n",
       "  <tbody>\n",
       "    <tr>\n",
       "      <th>0</th>\n",
       "      <td>Nov</td>\n",
       "      <td>Petra Gurin【NIJISANJI EN】</td>\n",
       "      <td>Super Chat</td>\n",
       "      <td>10.0</td>\n",
       "    </tr>\n",
       "    <tr>\n",
       "      <th>1</th>\n",
       "      <td>Nov</td>\n",
       "      <td>Petra Gurin【NIJISANJI EN】</td>\n",
       "      <td>Super Chat</td>\n",
       "      <td>5.0</td>\n",
       "    </tr>\n",
       "    <tr>\n",
       "      <th>2</th>\n",
       "      <td>Nov</td>\n",
       "      <td>Petra Gurin【NIJISANJI EN】</td>\n",
       "      <td>Super Chat</td>\n",
       "      <td>10.0</td>\n",
       "    </tr>\n",
       "    <tr>\n",
       "      <th>3</th>\n",
       "      <td>Nov</td>\n",
       "      <td>Petra Gurin【NIJISANJI EN】</td>\n",
       "      <td>Super Chat</td>\n",
       "      <td>5.0</td>\n",
       "    </tr>\n",
       "    <tr>\n",
       "      <th>4</th>\n",
       "      <td>Nov</td>\n",
       "      <td>Petra Gurin【NIJISANJI EN】</td>\n",
       "      <td>Super Chat</td>\n",
       "      <td>5.0</td>\n",
       "    </tr>\n",
       "  </tbody>\n",
       "</table>\n",
       "</div>"
      ],
      "text/plain": [
       "  date                    channel        type  total\n",
       "0  Nov  Petra Gurin【NIJISANJI EN】  Super Chat   10.0\n",
       "1  Nov  Petra Gurin【NIJISANJI EN】  Super Chat    5.0\n",
       "2  Nov  Petra Gurin【NIJISANJI EN】  Super Chat   10.0\n",
       "3  Nov  Petra Gurin【NIJISANJI EN】  Super Chat    5.0\n",
       "4  Nov  Petra Gurin【NIJISANJI EN】  Super Chat    5.0"
      ]
     },
     "execution_count": 16,
     "metadata": {},
     "output_type": "execute_result"
    }
   ],
   "source": [
    "data = data[data['channel'] == 'Petra Gurin【NIJISANJI EN】']\n",
    "by_month = data.copy()\n",
    "by_month['date'] = by_month['date'].apply(lambda x: x[:3])\n",
    "by_month.head(5)"
   ]
  },
  {
   "cell_type": "code",
   "execution_count": 22,
   "id": "5582093c-99df-41f1-be98-e6fd57a189ed",
   "metadata": {},
   "outputs": [
    {
     "data": {
      "text/plain": [
       "[Text(0.5, 0, ''), Text(0, 0.5, 'Average spending (in €)')]"
      ]
     },
     "execution_count": 22,
     "metadata": {},
     "output_type": "execute_result"
    },
    {
     "data": {
      "image/png": "[encoded data removed]",
      "text/plain": [
       "<Figure size 432x288 with 1 Axes>"
      ]
     },
     "metadata": {
      "needs_background": "light"
     },
     "output_type": "display_data"
    }
   ],
   "source": [
    "import seaborn as sns\n",
    "\n",
    "#months = ['Jan', 'Feb', 'Mar', 'Apr', 'May', 'Jun', 'Jul', 'Aug', 'Sep', 'Oct', 'Nov', 'Dec']\n",
    "months = ['Jul', 'Aug', 'Sep', 'Oct', 'Nov']\n",
    "\n",
    "ax = sns.barplot(data=by_month, x='date', y='total', order=months)\n",
    "ax.set(xlabel=\"\", ylabel=\"Average spending (in €)\")"
   ]
  },
  {
   "cell_type": "code",
   "execution_count": 40,
   "id": "e08832bd-5bc1-44c3-b8cf-723338a23832",
   "metadata": {},
   "outputs": [
    {
     "data": {
      "text/html": [
       "<div>\n",
       "<style scoped>\n",
       "    .dataframe tbody tr th:only-of-type {\n",
       "        vertical-align: middle;\n",
       "    }\n",
       "\n",
       "    .dataframe tbody tr th {\n",
       "        vertical-align: top;\n",
       "    }\n",
       "\n",
       "    .dataframe thead th {\n",
       "        text-align: right;\n",
       "    }\n",
       "</style>\n",
       "<table border=\"1\" class=\"dataframe\">\n",
       "  <thead>\n",
       "    <tr style=\"text-align: right;\">\n",
       "      <th></th>\n",
       "      <th>index</th>\n",
       "      <th>date</th>\n",
       "    </tr>\n",
       "  </thead>\n",
       "  <tbody>\n",
       "    <tr>\n",
       "      <th>0</th>\n",
       "      <td>Oct</td>\n",
       "      <td>65</td>\n",
       "    </tr>\n",
       "    <tr>\n",
       "      <th>1</th>\n",
       "      <td>Aug</td>\n",
       "      <td>44</td>\n",
       "    </tr>\n",
       "    <tr>\n",
       "      <th>2</th>\n",
       "      <td>Nov</td>\n",
       "      <td>42</td>\n",
       "    </tr>\n",
       "    <tr>\n",
       "      <th>3</th>\n",
       "      <td>Sep</td>\n",
       "      <td>41</td>\n",
       "    </tr>\n",
       "    <tr>\n",
       "      <th>4</th>\n",
       "      <td>Jul</td>\n",
       "      <td>4</td>\n",
       "    </tr>\n",
       "  </tbody>\n",
       "</table>\n",
       "</div>"
      ],
      "text/plain": [
       "  index  date\n",
       "0   Oct    65\n",
       "1   Aug    44\n",
       "2   Nov    42\n",
       "3   Sep    41\n",
       "4   Jul     4"
      ]
     },
     "execution_count": 40,
     "metadata": {},
     "output_type": "execute_result"
    }
   ],
   "source": [
    "sc_counts = by_month['date'].value_counts()\n",
    "sc_counts = sc_counts.reset_index()\n",
    "sc_counts"
   ]
  },
  {
   "cell_type": "code",
   "execution_count": 47,
   "id": "83ce1ad3-9013-4eb7-bdc1-df5119266955",
   "metadata": {},
   "outputs": [
    {
     "data": {
      "image/png": "[encoded data removed]",
      "text/plain": [
       "<Figure size 432x288 with 1 Axes>"
      ]
     },
     "metadata": {
      "needs_background": "light"
     },
     "output_type": "display_data"
    }
   ],
   "source": [
    "import matplotlib.pyplot as plt\n",
    "ax = sns.barplot(data=sc_counts, x='index', y='date', order=months)\n",
    "ax.set(xlabel=\"\", ylabel=\"Total number of Super Chats\")"
   ]
  },
  {
   "cell_type": "code",
   "execution_count": 51,
   "id": "fa855bc1-4519-432f-aa7c-0f73622b39a8",
   "metadata": {},
   "outputs": [
    {
     "data": {
      "text/html": [
       "<div>\n",
       "<style scoped>\n",
       "    .dataframe tbody tr th:only-of-type {\n",
       "        vertical-align: middle;\n",
       "    }\n",
       "\n",
       "    .dataframe tbody tr th {\n",
       "        vertical-align: top;\n",
       "    }\n",
       "\n",
       "    .dataframe thead th {\n",
       "        text-align: right;\n",
       "    }\n",
       "</style>\n",
       "<table border=\"1\" class=\"dataframe\">\n",
       "  <thead>\n",
       "    <tr style=\"text-align: right;\">\n",
       "      <th></th>\n",
       "      <th>date</th>\n",
       "      <th>total</th>\n",
       "    </tr>\n",
       "  </thead>\n",
       "  <tbody>\n",
       "    <tr>\n",
       "      <th>0</th>\n",
       "      <td>Aug</td>\n",
       "      <td>178.0</td>\n",
       "    </tr>\n",
       "    <tr>\n",
       "      <th>1</th>\n",
       "      <td>Jul</td>\n",
       "      <td>25.0</td>\n",
       "    </tr>\n",
       "    <tr>\n",
       "      <th>2</th>\n",
       "      <td>Nov</td>\n",
       "      <td>229.0</td>\n",
       "    </tr>\n",
       "    <tr>\n",
       "      <th>3</th>\n",
       "      <td>Oct</td>\n",
       "      <td>321.0</td>\n",
       "    </tr>\n",
       "    <tr>\n",
       "      <th>4</th>\n",
       "      <td>Sep</td>\n",
       "      <td>195.0</td>\n",
       "    </tr>\n",
       "  </tbody>\n",
       "</table>\n",
       "</div>"
      ],
      "text/plain": [
       "  date  total\n",
       "0  Aug  178.0\n",
       "1  Jul   25.0\n",
       "2  Nov  229.0\n",
       "3  Oct  321.0\n",
       "4  Sep  195.0"
      ]
     },
     "execution_count": 51,
     "metadata": {},
     "output_type": "execute_result"
    }
   ],
   "source": [
    "monthly_totals = by_month[[\"date\", \"total\"]].groupby(['date']).sum().reset_index()\n",
    "monthly_totals"
   ]
  },
  {
   "cell_type": "code",
   "execution_count": 55,
   "id": "4f9a0a59-2408-4db9-8c6b-1370b6f170cc",
   "metadata": {},
   "outputs": [
    {
     "data": {
      "text/plain": [
       "[Text(0.5, 0, ''), Text(0, 0.5, 'Super Chat Totals (in €)')]"
      ]
     },
     "execution_count": 55,
     "metadata": {},
     "output_type": "execute_result"
    },
    {
     "data": {
      "image/png": "[encoded data removed]",
      "text/plain": [
       "<Figure size 432x288 with 1 Axes>"
      ]
     },
     "metadata": {
      "needs_background": "light"
     },
     "output_type": "display_data"
    }
   ],
   "source": [
    "import matplotlib.pyplot as plt\n",
    "ax = sns.barplot(data=monthly_totals, x='date', y='total', order=months)\n",
    "ax.set(xlabel=\"\", ylabel=\"Super Chat Totals (in €)\")"
   ]
  },
  {
   "cell_type": "code",
   "execution_count": null,
   "id": "1800ef4e-0991-4dcd-973d-34b5e1422fa3",
   "metadata": {},
   "outputs": [],
   "source": []
  }
 ],
 "metadata": {
  "kernelspec": {
   "display_name": "Python 3 (ipykernel)",
   "language": "python",
   "name": "python3"
  },
  "language_info": {
   "codemirror_mode": {
    "name": "ipython",
    "version": 3
   },
   "file_extension": ".py",
   "mimetype": "text/x-python",
   "name": "python",
   "nbconvert_exporter": "python",
   "pygments_lexer": "ipython3",
   "version": "3.8.12"
  }
 },
 "nbformat": 4,
 "nbformat_minor": 5
}
